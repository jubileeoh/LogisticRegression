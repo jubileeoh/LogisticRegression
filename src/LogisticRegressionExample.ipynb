{
 "cells": [
  {
   "cell_type": "code",
   "execution_count": 1,
   "metadata": {
    "collapsed": true
   },
   "outputs": [],
   "source": [
    "import numpy as np\n",
    "import math\n",
    "import matplotlib.pyplot as plt"
   ]
  },
  {
   "cell_type": "code",
   "execution_count": 2,
   "metadata": {
    "collapsed": true
   },
   "outputs": [],
   "source": [
    "## In case of Squared Error function"
   ]
  },
  {
   "cell_type": "code",
   "execution_count": 3,
   "metadata": {
    "collapsed": false,
    "scrolled": true
   },
   "outputs": [
    {
     "name": "stdout",
     "output_type": "stream",
     "text": [
      "0.095625\n"
     ]
    }
   ],
   "source": [
    "def f(x):\n",
    "    w = 5.0\n",
    "    return 1 / (1 + math.pow(math.e, -w * x))\n",
    "\n",
    "def g(w, x):\n",
    "    return 1 / (1 + math.pow(math.e, -w * x))\n",
    "\n",
    "\n",
    "def perturb(y):\n",
    "    mu, sigma = y, 0.05\n",
    "    return np.random.normal(mu, sigma)\n",
    "\n",
    "def makeData():\n",
    "    '''\n",
    "    x_list = list(np.random.uniform(-1, 1, 100))\n",
    "    x_list.sort()\n",
    "    data = map(lambda x: (x, perturb(f(x))), x_list)\n",
    "    return data\n",
    "    '''\n",
    "    data = []\n",
    "    for i in range(-100, 101, 1):\n",
    "        if i <= -50:\n",
    "            data.append((i/100.0, 0.0))\n",
    "        elif i >= 50:\n",
    "            data.append((i/100.0, 1.0))\n",
    "    return data\n",
    "\n",
    "\n",
    "def gradE(data_list, w):\n",
    "    # return sum(map(lambda (x, y): float((g(w, x) - y) * g(w, x) * (1 - g(w, x)) * x), data))\n",
    "    return sum(map(lambda (x, y): float((g(w, x) - y) * g(w, x) * (1 - g(w, x)) * x), data_list))\n",
    "\n",
    "def updateW(data_list, w, eta):\n",
    "    return w - eta * gradE(data_list, w)\n",
    "\n",
    "data_list = makeData()\n",
    "def searchW():\n",
    "    ## data = makeData()\n",
    "    w = 0.0\n",
    "    eta = 1.0e-2\n",
    "\n",
    "    # iter = 10000\n",
    "    iter = 100\n",
    "    for i in range(iter):\n",
    "        w = updateW(data_list, w, eta)\n",
    "        if i % 1000 == 0:\n",
    "            print w\n",
    "    return w\n",
    "    \n",
    "w = searchW()\n",
    "data_list2 = []\n",
    "for data in data_list:\n",
    "    data_list2.append((data[0], g(w, data[0])))\n",
    "    ## print data[1], g(w, data[0])"
   ]
  },
  {
   "cell_type": "code",
   "execution_count": 4,
   "metadata": {
    "collapsed": false
   },
   "outputs": [],
   "source": [
    "x_list = np.array(map(lambda x: x[0], data_list))\n",
    "y_list = np.array(map(lambda x: x[1], data_list))\n",
    "plt.plot(x_list, y_list, 'bo')\n",
    "x_list = np.array(map(lambda x: x[0], data_list2))\n",
    "y_list = np.array(map(lambda x: x[1], data_list2))\n",
    "plt.plot(x_list, y_list, 'yo')\n",
    "plt.show()"
   ]
  },
  {
   "cell_type": "code",
   "execution_count": 5,
   "metadata": {
    "collapsed": true
   },
   "outputs": [],
   "source": [
    "## In case of Log Loss"
   ]
  },
  {
   "cell_type": "code",
   "execution_count": 6,
   "metadata": {
    "collapsed": false
   },
   "outputs": [
    {
     "name": "stdout",
     "output_type": "stream",
     "text": [
      "2.15142089412\n"
     ]
    }
   ],
   "source": [
    "def f(x):\n",
    "    w = 5.0\n",
    "    return 1 / (1 + math.pow(math.e, -w * x))\n",
    "\n",
    "def g(w, x):\n",
    "    return 1 / (1 + math.pow(math.e, -w * x))\n",
    "\n",
    "def makeData():\n",
    "    data = []\n",
    "    for i in range(-100, 101, 1):\n",
    "        if i <= -50:\n",
    "            data.append((i/100.0, 0.0))\n",
    "        elif i >= 50:\n",
    "            data.append((i/100.0, 1.0))\n",
    "    return data\n",
    "\n",
    "def gradE(data, w):\n",
    "    x, y = data\n",
    "    return (g(w, x) - y) * x\n",
    "\n",
    "def updateW(data, w, eta):\n",
    "    return w - eta * gradE(data, w)\n",
    "\n",
    "data_list = makeData()\n",
    "##print data_list\n",
    "def searchW():\n",
    "    ## data = makeData()\n",
    "    w = 0.0\n",
    "    eta = 1.0e-2\n",
    "\n",
    "    for i in range(10):\n",
    "        for data in data_list:\n",
    "            w = updateW(data, w, eta)\n",
    "    return w\n",
    "    \n",
    "w = searchW()\n",
    "print w\n",
    "\n",
    "data_list2 = []\n",
    "for data in data_list:\n",
    "    data_list2.append((data[0], g(w, data[0])))\n",
    "    ## print data[1], g(w, data[0])"
   ]
  },
  {
   "cell_type": "code",
   "execution_count": 7,
   "metadata": {
    "collapsed": true
   },
   "outputs": [],
   "source": [
    "x_list = np.array(map(lambda x: x[0], data_list))\n",
    "y_list = np.array(map(lambda x: x[1], data_list))\n",
    "plt.plot(x_list, y_list, 'bo')\n",
    "x_list = np.array(map(lambda x: x[0], data_list2))\n",
    "y_list = np.array(map(lambda x: x[1], data_list2))\n",
    "plt.plot(x_list, y_list, 'yo')\n",
    "plt.show()"
   ]
  },
  {
   "cell_type": "code",
   "execution_count": null,
   "metadata": {
    "collapsed": true
   },
   "outputs": [],
   "source": []
  }
 ],
 "metadata": {
  "kernelspec": {
   "display_name": "Python 2",
   "language": "python",
   "name": "python2"
  },
  "language_info": {
   "codemirror_mode": {
    "name": "ipython",
    "version": 2
   },
   "file_extension": ".py",
   "mimetype": "text/x-python",
   "name": "python",
   "nbconvert_exporter": "python",
   "pygments_lexer": "ipython2",
   "version": "2.7.11"
  }
 },
 "nbformat": 4,
 "nbformat_minor": 0
}
