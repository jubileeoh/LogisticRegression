{
 "cells": [
  {
   "cell_type": "code",
   "execution_count": 1,
   "metadata": {
    "collapsed": true
   },
   "outputs": [],
   "source": [
    "import numpy as np\n",
    "import math\n",
    "import matplotlib.pyplot as plt"
   ]
  },
  {
   "cell_type": "code",
   "execution_count": 2,
   "metadata": {
    "collapsed": true
   },
   "outputs": [],
   "source": [
    "## In case of Squared Error function"
   ]
  },
  {
   "cell_type": "code",
   "execution_count": 3,
   "metadata": {
    "collapsed": false,
    "scrolled": true
   },
   "outputs": [
    {
     "name": "stdout",
     "output_type": "stream",
     "text": [
      "0.095625\n",
      "4.81646843856\n",
      "5.42639965849\n",
      "5.78317069357\n",
      "6.03651892838\n",
      "6.23321800457\n",
      "6.39407986111\n",
      "6.53020226431\n",
      "6.6482093193\n",
      "6.75237421381\n"
     ]
    }
   ],
   "source": [
    "def f(x):\n",
    "    w = 5.0\n",
    "    return 1 / (1 + math.pow(math.e, -w * x))\n",
    "\n",
    "def g(w, x):\n",
    "    return 1 / (1 + math.pow(math.e, -w * x))\n",
    "\n",
    "\n",
    "def perturb(y):\n",
    "    mu, sigma = y, 0.05\n",
    "    return np.random.normal(mu, sigma)\n",
    "\n",
    "def makeData():\n",
    "    '''\n",
    "    x_list = list(np.random.uniform(-1, 1, 100))\n",
    "    x_list.sort()\n",
    "    data = map(lambda x: (x, perturb(f(x))), x_list)\n",
    "    return data\n",
    "    '''\n",
    "    data = []\n",
    "    for i in range(-100, 101, 1):\n",
    "        if i <= -50:\n",
    "            data.append((i/100.0, 0.0))\n",
    "        elif i >= 50:\n",
    "            data.append((i/100.0, 1.0))\n",
    "    return data\n",
    "\n",
    "\n",
    "def gradE(data_list, w):\n",
    "    # return sum(map(lambda (x, y): float((g(w, x) - y) * g(w, x) * (1 - g(w, x)) * x), data))\n",
    "    return sum(map(lambda (x, y): float((g(w, x) - y) * g(w, x) * (1 - g(w, x)) * x), data_list))\n",
    "\n",
    "def updateW(data_list, w, eta):\n",
    "    return w - eta * gradE(data_list, w)\n",
    "\n",
    "data_list = makeData()\n",
    "def searchW():\n",
    "    ## data = makeData()\n",
    "    w = 0.0\n",
    "    eta = 1.0e-2\n",
    "\n",
    "    # iter = 10000\n",
    "    iter = 10000\n",
    "    for i in range(iter):\n",
    "        w = updateW(data_list, w, eta)\n",
    "        if i % 1000 == 0:\n",
    "            print w\n",
    "    return w\n",
    "    \n",
    "w = searchW()\n",
    "data_list2 = []\n",
    "for data in data_list:\n",
    "    data_list2.append((data[0], g(w, data[0])))\n",
    "    ## print data[1], g(w, data[0])"
   ]
  },
  {
   "cell_type": "code",
   "execution_count": 4,
   "metadata": {
    "collapsed": false
   },
   "outputs": [],
   "source": [
    "x_list = np.array(map(lambda x: x[0], data_list))\n",
    "y_list = np.array(map(lambda x: x[1], data_list))\n",
    "plt.plot(x_list, y_list, 'bo')\n",
    "x_list = np.array(map(lambda x: x[0], data_list2))\n",
    "y_list = np.array(map(lambda x: x[1], data_list2))\n",
    "plt.plot(x_list, y_list, 'yo')\n",
    "plt.show()"
   ]
  },
  {
   "cell_type": "code",
   "execution_count": 5,
   "metadata": {
    "collapsed": true
   },
   "outputs": [],
   "source": [
    "## In case of Log Loss"
   ]
  },
  {
   "cell_type": "code",
   "execution_count": 6,
   "metadata": {
    "collapsed": false
   },
   "outputs": [
    {
     "name": "stdout",
     "output_type": "stream",
     "text": [
      "5.40290115442\n"
     ]
    }
   ],
   "source": [
    "def f(x):\n",
    "    w = 5.0\n",
    "    return 1 / (1 + math.pow(math.e, -w * x))\n",
    "\n",
    "def g(w, x):\n",
    "    return 1 / (1 + math.pow(math.e, -w * x))\n",
    "\n",
    "def makeData():\n",
    "    data = []\n",
    "    for i in range(-100, 101, 1):\n",
    "        if i <= -50:\n",
    "            data.append((i/100.0, 0.0))\n",
    "        elif i >= 50:\n",
    "            data.append((i/100.0, 1.0))\n",
    "    return data\n",
    "\n",
    "def gradE(data, w):\n",
    "    x, y = data\n",
    "    return (g(w, x) - y) * x\n",
    "\n",
    "def updateW(data, w, eta):\n",
    "    return w - eta * gradE(data, w)\n",
    "\n",
    "data_list = makeData()\n",
    "##print data_list\n",
    "def searchW():\n",
    "    ## data = makeData()\n",
    "    w = 0.0\n",
    "    eta = 1.0e-2\n",
    "\n",
    "    for i in range(100):\n",
    "        for data in data_list:\n",
    "            w = updateW(data, w, eta)\n",
    "    return w\n",
    "    \n",
    "w = searchW()\n",
    "print w\n",
    "\n",
    "data_list2 = []\n",
    "for data in data_list:\n",
    "    data_list2.append((data[0], g(w, data[0])))\n",
    "    ## print data[1], g(w, data[0])"
   ]
  },
  {
   "cell_type": "code",
   "execution_count": 7,
   "metadata": {
    "collapsed": true
   },
   "outputs": [],
   "source": [
    "x_list = np.array(map(lambda x: x[0], data_list))\n",
    "y_list = np.array(map(lambda x: x[1], data_list))\n",
    "plt.plot(x_list, y_list, 'bo')\n",
    "x_list = np.array(map(lambda x: x[0], data_list2))\n",
    "y_list = np.array(map(lambda x: x[1], data_list2))\n",
    "plt.plot(x_list, y_list, 'yo')\n",
    "plt.show()"
   ]
  },
  {
   "cell_type": "code",
   "execution_count": null,
   "metadata": {
    "collapsed": true
   },
   "outputs": [],
   "source": []
  },
  {
   "cell_type": "code",
   "execution_count": 8,
   "metadata": {
    "collapsed": false
   },
   "outputs": [
    {
     "name": "stdout",
     "output_type": "stream",
     "text": [
      "[9.807926248972564, -9.59472208384249]\n"
     ]
    }
   ],
   "source": [
    "def vector_inner_product(w_list, x_list):\n",
    "    result = 0.0\n",
    "    for i in range(len(w_list)):\n",
    "        result += w_list[i] * x_list[i]\n",
    "    return result\n",
    "\n",
    "def vector_minus(x_list, y_list):\n",
    "    result_list = []\n",
    "    for i in range(len(x_list)):\n",
    "        result_list.append(x_list[i] - y_list[i])\n",
    "    return result_list\n",
    "\n",
    "def vector_scala_multiplication(c, x_list):\n",
    "    result_list = []\n",
    "    for i in range(len(x_list)):\n",
    "        result_list.append(c * x_list[i])\n",
    "    return result_list\n",
    "\n",
    "def vector_multiplication(w_list, x_list):\n",
    "    result_list = []\n",
    "    for i in range(len(w_list)):\n",
    "        result_list.append(w_list[i] * x_list[i])\n",
    "    return result_list\n",
    "\n",
    "def f(x_list):\n",
    "    w_list = [5.0, 1.0]\n",
    "    return 1 / (1 + math.pow(math.e, -1.0 * vector_inner_product(w_list, x_list)))\n",
    "\n",
    "def g(w_list, x_list):\n",
    "    return 1 / (1 + math.pow(math.e, -1.0 * vector_inner_product(w_list, x_list)))\n",
    "\n",
    "def makeData():\n",
    "    data = []\n",
    "    for i in range(0, 200, 1):\n",
    "        if i <= 70:\n",
    "            data.append((i/100.0, 0.0))\n",
    "        elif i >= 130:\n",
    "            data.append((i/100.0, 1.0))\n",
    "    return data\n",
    "\n",
    "def gradE(data, w_list):\n",
    "    x, y = data\n",
    "    x_list = [x, 1.0]\n",
    "    c = (g(w_list, x_list) - y)# * g(w_list, x_list) * (1.0 - g(w_list, x_list))\n",
    "    return vector_scala_multiplication(c, x_list)\n",
    "\n",
    "def updateW(data, w_list, eta_list):\n",
    "    return vector_minus(w_list, vector_multiplication(eta_list, gradE(data, w_list)))\n",
    "\n",
    "data_list = makeData()\n",
    "## print data_list\n",
    "def searchW():\n",
    "    w_list = [0.0, 0.0]\n",
    "    eta_list = [1.0e-2, 1.0e-2]\n",
    "\n",
    "    for i in range(1000):\n",
    "        for data in data_list:\n",
    "            w_list = updateW(data, w_list, eta_list)\n",
    "    return w_list\n",
    "    \n",
    "w_list = searchW()\n",
    "print w_list\n",
    "\n",
    "data_list2 = []\n",
    "for data in data_list:\n",
    "    data_list2.append((data[0], g(w_list, (data[0], 1.0))))\n",
    "    ## print data[1], g(w, data[0])"
   ]
  },
  {
   "cell_type": "code",
   "execution_count": 9,
   "metadata": {
    "collapsed": true
   },
   "outputs": [],
   "source": [
    "x_list = np.array(map(lambda x: x[0], data_list))\n",
    "y_list = np.array(map(lambda x: x[1], data_list))\n",
    "plt.plot(x_list, y_list, 'bo')\n",
    "x_list = np.array(map(lambda x: x[0], data_list2))\n",
    "y_list = np.array(map(lambda x: x[1], data_list2))\n",
    "plt.plot(x_list, y_list, 'yo')\n",
    "plt.show()"
   ]
  },
  {
   "cell_type": "code",
   "execution_count": 10,
   "metadata": {
    "collapsed": true
   },
   "outputs": [],
   "source": [
    "data_source = [[8.79236, 8.79636, 4.70997, 5.8211, 12.9699],\n",
    "[8.79137, 8.79236, 4.70217, 5.82558, 12.9733],\n",
    "[8.81486, 8.79137, 4.68944, 5.83112, 12.9774],\n",
    "[8.81301, 8.81486, 4.68558, 5.84046, 12.9806],\n",
    "[8.90751, 8.81301, 4.64019, 5.85036, 12.9831],\n",
    "[8.93673, 8.90751, 4.62553, 5.86464, 12.9854],\n",
    "[8.96161, 8.93673, 4.61991, 5.87769, 12.99],\n",
    "[8.96044, 8.96161, 4.61654, 5.89763, 12.9943],\n",
    "[9.00868, 8.96044, 4.61407, 5.92574, 12.9992],\n",
    "[9.03049, 9.00868, 4.60766, 5.94232, 13.0033],\n",
    "[9.06906, 9.03049, 4.60227, 5.95365, 13.0099],\n",
    "[9.05871, 9.06906, 4.5896, 5.9612, 13.0159],\n",
    "[9.10698, 9.05871, 4.57592, 5.97805, 13.0212],\n",
    "[9.12685, 9.10698, 4.58661, 6.00377, 13.0265],\n",
    "[9.17096, 9.12685, 4.57997, 6.02829, 13.0351],\n",
    "[9.18665, 9.17096, 4.57176, 6.03475, 13.0429],\n",
    "[9.23823, 9.18665, 4.56104, 6.03906, 13.0497],\n",
    "[9.26487, 9.23823, 4.54906, 6.05046, 13.0551],\n",
    "[9.28436, 9.26487, 4.53957, 6.05563, 13.0634],\n",
    "[9.31378, 9.28436, 4.51018, 6.06093, 13.0693],\n",
    "[9.35025, 9.31378, 4.50352, 6.07103, 13.0737],\n",
    "[9.35835, 9.35025, 4.4936, 6.08018, 13.077],\n",
    "[9.39767, 9.35835, 4.46505, 6.08858, 13.0849],\n",
    "[9.4215, 9.39767, 4.44924, 6.10199, 13.0918],\n",
    "[9.44223, 9.4215, 4.43966, 6.11207, 13.095],\n",
    "[9.48721, 9.44223, 4.42025, 6.11596, 13.0984],\n",
    "[9.52374, 9.48721, 4.4106, 6.12129, 13.1089],\n",
    "[9.5398, 9.52374, 4.41151, 6.122, 13.1169],\n",
    "[9.58123, 9.5398, 4.3981, 6.13119, 13.1222],\n",
    "[9.60048, 9.58123, 4.38513, 6.14705, 13.1266],\n",
    "[9.64496, 9.60048, 4.3732, 6.15336, 13.1356],\n",
    "[9.6439, 9.64496, 4.3277, 6.15627, 13.1415],\n",
    "[9.69405, 9.6439, 4.32023, 6.16274, 13.1444],\n",
    "[9.69958, 9.69405, 4.30909, 6.17369, 13.1459],\n",
    "[9.68683, 9.69958, 4.30909, 6.16135, 13.152],\n",
    "[9.71774, 9.68683, 4.30552, 6.18231, 13.1593],\n",
    "[9.74924, 9.71774, 4.29627, 6.18768, 13.1579],\n",
    "[9.77536, 9.74924, 4.27839, 6.19377, 13.1625],\n",
    "[9.79424, 9.77536, 4.27789, 6.2003, 13.1664]]"
   ]
  },
  {
   "cell_type": "code",
   "execution_count": 12,
   "metadata": {
    "collapsed": false
   },
   "outputs": [
    {
     "name": "stdout",
     "output_type": "stream",
     "text": [
      " [1.1257258190455375, -0.9989449621934792, 0.15229665160964265, -0.31664630206722133, -0.05252075815866862]\n"
     ]
    }
   ],
   "source": [
    "def vector_inner_product(w_list, x_list):\n",
    "    result = 0.0\n",
    "    for i in range(len(w_list)):\n",
    "        result += w_list[i] * x_list[i]\n",
    "    return result\n",
    "\n",
    "def vector_minus(x_list, y_list):\n",
    "    result_list = []\n",
    "    for i in range(len(x_list)):\n",
    "        result_list.append(x_list[i] - y_list[i])\n",
    "    return result_list\n",
    "\n",
    "def vector_scala_multiplication(c, x_list):\n",
    "    result_list = []\n",
    "    for i in range(len(x_list)):\n",
    "        result_list.append(c * x_list[i])\n",
    "    return result_list\n",
    "\n",
    "def vector_multiplication(w_list, x_list):\n",
    "    result_list = []\n",
    "    for i in range(len(w_list)):\n",
    "        result_list.append(w_list[i] * x_list[i])\n",
    "    return result_list\n",
    "\n",
    "def g(w_list, x_list):\n",
    "    return 1 / (1 + math.pow(math.e, -1.0 * vector_inner_product(w_list, x_list)))\n",
    "\n",
    "def makeData():\n",
    "    data_list = []\n",
    "    for data in data_source:\n",
    "        x_list = data[1:]\n",
    "        y = data[0]/10.0\n",
    "        data_list.append([x_list, y])\n",
    "    return data_list\n",
    "        \n",
    "\n",
    "def gradE(data, w_list):\n",
    "    x_list, y = data\n",
    "    x_list2 = x_list + [1.0]\n",
    "    c = (g(w_list, x_list2) - y) * g(w_list, x_list2) * (1.0 - g(w_list, x_list2))\n",
    "    return vector_scala_multiplication(c, x_list2)\n",
    "\n",
    "def updateW(data, w_list, eta_list):\n",
    "    return vector_minus(w_list, vector_multiplication(eta_list, gradE(data, w_list)))\n",
    "\n",
    "\n",
    "data_list = makeData()\n",
    "\n",
    "## print data_list\n",
    "def searchW():\n",
    "    w_list = [0.0, 0.0, 0.0, 0.0, 0.0]\n",
    "    eta_list = [1.0e-2] * 5 #, 1.0e-3, 1.0e-3, 1.0e-3, 1.0e-3]\n",
    "\n",
    "    for i in range(100000):\n",
    "        for data in data_list:\n",
    "            w_list = updateW(data, w_list, eta_list)\n",
    "    return w_list\n",
    "    \n",
    "w_list = searchW()\n",
    "print w_list\n"
   ]
  },
  {
   "cell_type": "code",
   "execution_count": null,
   "metadata": {
    "collapsed": true
   },
   "outputs": [],
   "source": []
  },
  {
   "cell_type": "code",
   "execution_count": 13,
   "metadata": {
    "collapsed": false
   },
   "outputs": [
    {
     "name": "stdout",
     "output_type": "stream",
     "text": [
      "0.879236 0.872631752317\n",
      "0.879137 0.872953122892\n",
      "0.881486 0.874184323929\n",
      "0.881301 0.87752319387\n",
      "0.890751 0.882171608982\n",
      "0.893673 0.894318250817\n",
      "0.896161 0.897951527057\n",
      "0.896044 0.900940441435\n",
      "0.900868 0.901286161626\n",
      "0.903049 0.906661182313\n",
      "0.906906 0.909133850697\n",
      "0.905871 0.91360201071\n",
      "0.910698 0.913830822492\n",
      "0.912685 0.917377106389\n",
      "0.917096 0.919623621408\n",
      "0.918665 0.923693010984\n",
      "0.923823 0.925565804357\n",
      "0.926487 0.930250805832\n",
      "0.928436 0.932653128398\n",
      "0.931378 0.935740898357\n",
      "0.935025 0.938099747556\n",
      "0.935835 0.941013304645\n",
      "0.939767 0.943002493533\n",
      "0.94215 0.9461386364\n",
      "0.944223 0.947989288972\n",
      "0.948721 0.950033059155\n",
      "0.952374 0.952704836681\n",
      "0.95398 0.954378697605\n",
      "0.958123 0.955717896653\n",
      "0.960048 0.958213588095\n",
      "0.964496 0.959464543566\n",
      "0.96439 0.962970131569\n",
      "0.969405 0.963195400941\n",
      "0.969958 0.965557339564\n",
      "0.968683 0.965637542894\n",
      "0.971774 0.965307319668\n",
      "0.974924 0.966792731793\n",
      "0.977536 0.968446470866\n",
      "0.979424 0.969340422714\n"
     ]
    }
   ],
   "source": [
    "data_list2 = []\n",
    "for data in data_list:\n",
    "    ## data_list2.append((data[0], g(w_list, data[0] + [1.0])))\n",
    "    print data[1], g(w_list, data[0]+[1.0])"
   ]
  },
  {
   "cell_type": "code",
   "execution_count": null,
   "metadata": {
    "collapsed": true
   },
   "outputs": [],
   "source": []
  }
 ],
 "metadata": {
  "kernelspec": {
   "display_name": "Python 2",
   "language": "python",
   "name": "python2"
  },
  "language_info": {
   "codemirror_mode": {
    "name": "ipython",
    "version": 2
   },
   "file_extension": ".py",
   "mimetype": "text/x-python",
   "name": "python",
   "nbconvert_exporter": "python",
   "pygments_lexer": "ipython2",
   "version": "2.7.11"
  }
 },
 "nbformat": 4,
 "nbformat_minor": 0
}
